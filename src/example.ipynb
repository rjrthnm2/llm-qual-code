{
 "cells": [
  {
   "cell_type": "code",
   "execution_count": 1,
   "metadata": {},
   "outputs": [],
   "source": [
    "import ollama"
   ]
  },
  {
   "cell_type": "code",
   "execution_count": 2,
   "metadata": {},
   "outputs": [
    {
     "data": {
      "text/plain": [
       "{'model': 'llama2:latest',\n",
       " 'created_at': '2024-05-10T19:27:39.3178737Z',\n",
       " 'message': {'role': 'assistant',\n",
       "  'content': '\\nThe capital of France is Paris.'},\n",
       " 'done': True,\n",
       " 'total_duration': 460371900,\n",
       " 'load_duration': 2180000,\n",
       " 'prompt_eval_count': 27,\n",
       " 'prompt_eval_duration': 327843000,\n",
       " 'eval_count': 9,\n",
       " 'eval_duration': 127306000}"
      ]
     },
     "execution_count": 2,
     "metadata": {},
     "output_type": "execute_result"
    }
   ],
   "source": [
    "ollama.chat(model='llama2:latest', messages=[{'role': 'user', 'content': 'What is the capital of France?'}])"
   ]
  },
  {
   "cell_type": "code",
   "execution_count": 3,
   "metadata": {},
   "outputs": [
    {
     "data": {
      "text/plain": [
       "{'model': 'llama2:latest',\n",
       " 'created_at': '2024-05-10T19:28:03.2574163Z',\n",
       " 'message': {'role': 'assistant',\n",
       "  'content': \"\\nAh, Spain! Yes, Spain is a great country with a rich culture and history. Here are some of the best places to visit in Spain:\\n\\n1. Barcelona: Known for its architecture, beaches, and nightlife, Barcelona is a must-visit destination in Spain. Visit the Sagrada Familia, Park Guell, and the Gothic Quarter.\\n2. Madrid: The capital city of Spain is home to many museums, galleries, and cultural institutions. Visit the Prado Museum, Reina Sofia Museum, and the Royal Palace.\\n3. Seville: This charming city is known for its historic landmarks, including the Alcazar Palace and the Giralda Tower. Take a stroll through the narrow streets of the Santa Cruz neighborhood and enjoy the city's vibrant nightlife.\\n4. Granada: Located in the foothills of the Sierra Nevada mountains, Granada is famous for its stunning Alhambra palace and the Generalife gardens. Don't miss the Albayzin and Sacromonte neighborhoods, which are filled with narrow streets and historic buildings.\\n5. Valencia: This coastal city is known for its beautiful beaches, as well as its futuristic City of Arts and Sciences complex. Visit the Oceanographic Aquarium and the Palau de les Arts Reina Sofia concert hall.\\n6. Cordoba: Located in the Andalusia region, Cordoba is famous for its Mezquita (Mosque-Cathedral), which combines Moorish and Christian architectural styles. Don't miss the Alcazar de los Reyes Cristianos palace and the River Guadalquivir.\\n7. Toledo: This historic city is located in the central region of Spain and is known for its cathedral, synagogues, and mosques. Toledo has a rich cultural heritage and is a UNESCO World Heritage Site.\\n8. Santiago de Compostela: Located in northwest Spain, Santiago de Compostela is famous for its Cathedral of St. James, which is the reputed burial place of the apostle James. The city is also known for its historic center and traditional Galician cuisine.\\n9. San Sebastian: This coastal city in the Basque Country is known for its beautiful beaches, as well as its vibrant cultural scene and gastronomy. Visit the Kursaal Congress Centre and Auditorium and enjoy the city's lively nightlife.\\n10. Zaragoza: Located in northeast Spain, Zaragoza is home to the Aljaferia Palace and the Basilica of Our Lady of Pillar, which is a UNESCO World Heritage Site. Don't miss the Parque Natural de la Dehesa del Alcornocino nature reserve and the Rio Ebro.\\n\\nThese are just a few of the many amazing places to visit in Spain. With its rich culture, history, and beautiful landscapes, Spain is a destination that has something for everyone.\"},\n",
       " 'done': True,\n",
       " 'total_duration': 9811592700,\n",
       " 'load_duration': 2570100,\n",
       " 'prompt_eval_count': 8,\n",
       " 'prompt_eval_duration': 398254000,\n",
       " 'eval_count': 661,\n",
       " 'eval_duration': 9410065000}"
      ]
     },
     "execution_count": 3,
     "metadata": {},
     "output_type": "execute_result"
    }
   ],
   "source": [
    "ollama.chat(model='llama2:latest', messages=[{'role': 'user', 'content': 'What about Spain?'}])"
   ]
  }
 ],
 "metadata": {
  "kernelspec": {
   "display_name": "fewshot",
   "language": "python",
   "name": "python3"
  },
  "language_info": {
   "codemirror_mode": {
    "name": "ipython",
    "version": 3
   },
   "file_extension": ".py",
   "mimetype": "text/x-python",
   "name": "python",
   "nbconvert_exporter": "python",
   "pygments_lexer": "ipython3",
   "version": "3.11.9"
  }
 },
 "nbformat": 4,
 "nbformat_minor": 2
}
